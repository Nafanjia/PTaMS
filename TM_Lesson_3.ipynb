{
 "cells": [
  {
   "cell_type": "markdown",
   "metadata": {},
   "source": [
    "# ДЗ Урок 3"
   ]
  },
  {
   "cell_type": "code",
   "execution_count": 1,
   "metadata": {},
   "outputs": [],
   "source": [
    "import warnings\n",
    "import numpy as np\n",
    "import pandas as pd\n",
    "from matplotlib import pyplot as plt\n",
    "\n",
    "warnings.filterwarnings('ignore')\n",
    "plt.style.use('seaborn-whitegrid')"
   ]
  },
  {
   "cell_type": "markdown",
   "metadata": {},
   "source": [
    "## Задача 1\n",
    "\n",
    "Даны значения зарплат из выборки выпускников:\n",
    "\n",
    "100, 80, 75, 77, 89, 33, 45, 25, 65, 17, 30, 230, 24, 57, 55, 70, 75, 65, 84, 90, 150\n",
    "\n",
    "Используя только встроенные питоновские функции и структуры данных (т.е. без библиотек numpy, pandas и др.) посчитать среднее арифметическое, смещённую и несмещённую оценки дисперсии, среднее квадратичное отклонение для данной выборки.\n",
    "\n",
    "Можно затем посчитать те же значения с использованием библиотек, чтобы проверить себя."
   ]
  },
  {
   "cell_type": "code",
   "execution_count": 2,
   "metadata": {},
   "outputs": [],
   "source": [
    "zp = [100, 80, 75, 77, 89, 33, 45, 25, 65, 17, 30, 230, 24, 57, 55, 70, 75, 65, 84, 90, 150]\n",
    "data = {'zp':[100, 80, 75, 77, 89, 33, 45, 25, 65, 17, 30, 230, 24, 57, 55, 70, 75, 65, 84, 90, 150]}\n",
    "df = pd.DataFrame(data)"
   ]
  },
  {
   "cell_type": "code",
   "execution_count": 3,
   "metadata": {},
   "outputs": [
    {
     "name": "stdout",
     "output_type": "stream",
     "text": [
      "Среднее арифметическое 73.14285714285714\n",
      "Среднее арифметическое библиотека 73.14285714285714\n"
     ]
    }
   ],
   "source": [
    "summ = 0\n",
    "for i in zp:\n",
    "    summ = summ + i\n",
    "middle_summ = summ / len(zp)\n",
    "print(f'Среднее арифметическое {middle_summ}')\n",
    "middle_summ_b = df['zp'].mean()\n",
    "print(f'Среднее арифметическое библиотека {middle_summ_b}')"
   ]
  },
  {
   "cell_type": "code",
   "execution_count": 4,
   "metadata": {},
   "outputs": [
    {
     "name": "stdout",
     "output_type": "stream",
     "text": [
      "Смещенная оценка дисперсии 2135.074829931973\n",
      "Смещенная оценка дисперсии библиотека 2135.0748299319725\n"
     ]
    }
   ],
   "source": [
    "sample_variance_displaced = 0\n",
    "for i in zp:\n",
    "    sample_variance_displaced = sample_variance_displaced + (i - middle_summ) ** 2 / len(zp)\n",
    "print(f'Смещенная оценка дисперсии {sample_variance_displaced}')\n",
    "sample_variance_displaced_b = ((df['zp'] - df['zp'].mean()) ** 2).sum() / df['zp'].shape[0]\n",
    "print(f'Смещенная оценка дисперсии библиотека {sample_variance_displaced_b}')"
   ]
  },
  {
   "cell_type": "code",
   "execution_count": 5,
   "metadata": {},
   "outputs": [
    {
     "name": "stdout",
     "output_type": "stream",
     "text": [
      "Несмещенная оценка дисперсии 2241.8285714285716\n",
      "Несмещенная оценка дисперсии библиотека 2241.8285714285716\n"
     ]
    }
   ],
   "source": [
    "sample_variance_unbiased = 0\n",
    "for i in zp:\n",
    "    sample_variance_unbiased = sample_variance_unbiased + (i - middle_summ) ** 2 / (len(zp) - 1)\n",
    "print(f'Несмещенная оценка дисперсии {sample_variance_unbiased}')\n",
    "sample_variance_unbiased_b = df['zp'].var()\n",
    "print(f'Несмещенная оценка дисперсии библиотека {sample_variance_unbiased_b}')"
   ]
  },
  {
   "cell_type": "code",
   "execution_count": 6,
   "metadata": {},
   "outputs": [
    {
     "name": "stdout",
     "output_type": "stream",
     "text": [
      "Среднее квадратичное отклонение смещенное 46.20686994302874\n",
      "Среднее квадратичное отклонение смещенное библиотека 46.20686994302874\n"
     ]
    }
   ],
   "source": [
    "print(f'Среднее квадратичное отклонение смещенное {sample_variance_displaced ** 0.5}')\n",
    "skos = df['zp'].std(ddof=0)\n",
    "print(f'Среднее квадратичное отклонение смещенное библиотека {skos}')"
   ]
  },
  {
   "cell_type": "code",
   "execution_count": 7,
   "metadata": {},
   "outputs": [
    {
     "name": "stdout",
     "output_type": "stream",
     "text": [
      "Среднее квадратичное отклонение несмещенное 47.34795213553139\n",
      "Среднее квадратичное отклонение несмещенное библиотека 47.34795213553139\n"
     ]
    }
   ],
   "source": [
    "print(f'Среднее квадратичное отклонение несмещенное {sample_variance_unbiased ** 0.5}')\n",
    "skon = df['zp'].std(ddof=1)\n",
    "print(f'Среднее квадратичное отклонение несмещенное библиотека {skon}')"
   ]
  },
  {
   "cell_type": "markdown",
   "metadata": {},
   "source": [
    "## Задача 2\n",
    "\n",
    "Для выборки из задачи 1 найти (также без использования библиотек):\n",
    "1. медиану, первый и третий квартили, интерквартильное расстояние,\n",
    "2. выбросы в выборке (используя для этого метод как при построении \"усов\" из boxplot).\n",
    "\n",
    "Возможные неоднозначности в вычислении квантилей можно разрешать любым способом."
   ]
  },
  {
   "cell_type": "code",
   "execution_count": 8,
   "metadata": {},
   "outputs": [
    {
     "data": {
      "text/plain": [
       "[17,\n",
       " 24,\n",
       " 25,\n",
       " 30,\n",
       " 33,\n",
       " 45,\n",
       " 55,\n",
       " 57,\n",
       " 65,\n",
       " 65,\n",
       " 70,\n",
       " 75,\n",
       " 75,\n",
       " 77,\n",
       " 80,\n",
       " 84,\n",
       " 89,\n",
       " 90,\n",
       " 100,\n",
       " 150,\n",
       " 230]"
      ]
     },
     "execution_count": 8,
     "metadata": {},
     "output_type": "execute_result"
    }
   ],
   "source": [
    "zp.sort()\n",
    "zp"
   ]
  },
  {
   "cell_type": "code",
   "execution_count": 9,
   "metadata": {},
   "outputs": [
    {
     "name": "stdout",
     "output_type": "stream",
     "text": [
      "Медиана 75\n"
     ]
    }
   ],
   "source": [
    "print(f'Медиана {zp[round(len(zp) / 2) + 1]}')"
   ]
  },
  {
   "cell_type": "code",
   "execution_count": 10,
   "metadata": {},
   "outputs": [
    {
     "data": {
      "text/plain": [
       "5"
      ]
     },
     "execution_count": 10,
     "metadata": {},
     "output_type": "execute_result"
    }
   ],
   "source": [
    "len(zp) // 2 // 2"
   ]
  },
  {
   "cell_type": "code",
   "execution_count": 11,
   "metadata": {},
   "outputs": [
    {
     "name": "stdout",
     "output_type": "stream",
     "text": [
      "Первый квартиль 45\n"
     ]
    }
   ],
   "source": [
    "q1 = zp[len(zp) // 2 // 2]\n",
    "print(f'Первый квартиль {q1}')"
   ]
  },
  {
   "cell_type": "code",
   "execution_count": 12,
   "metadata": {},
   "outputs": [
    {
     "data": {
      "text/plain": [
       "45.0"
      ]
     },
     "execution_count": 12,
     "metadata": {},
     "output_type": "execute_result"
    }
   ],
   "source": [
    "df['zp'].quantile(0.25)"
   ]
  },
  {
   "cell_type": "code",
   "execution_count": 13,
   "metadata": {},
   "outputs": [
    {
     "name": "stdout",
     "output_type": "stream",
     "text": [
      "Третий квартиль 84\n"
     ]
    }
   ],
   "source": [
    "q3 = zp[len(zp) * 3 // 2 // 2]\n",
    "print(f'Третий квартиль {q3}')"
   ]
  },
  {
   "cell_type": "code",
   "execution_count": 14,
   "metadata": {},
   "outputs": [
    {
     "data": {
      "text/plain": [
       "84.0"
      ]
     },
     "execution_count": 14,
     "metadata": {},
     "output_type": "execute_result"
    }
   ],
   "source": [
    "df['zp'].quantile(0.75)"
   ]
  },
  {
   "cell_type": "code",
   "execution_count": 15,
   "metadata": {},
   "outputs": [
    {
     "data": {
      "text/plain": [
       "0.25    45.0\n",
       "0.50    70.0\n",
       "0.75    84.0\n",
       "Name: zp, dtype: float64"
      ]
     },
     "execution_count": 15,
     "metadata": {},
     "output_type": "execute_result"
    }
   ],
   "source": [
    "df['zp'].quantile([0.25, 0.5, 0.75])"
   ]
  },
  {
   "cell_type": "code",
   "execution_count": 16,
   "metadata": {},
   "outputs": [
    {
     "name": "stdout",
     "output_type": "stream",
     "text": [
      "Интерквартильный размах [45, 84]\n"
     ]
    }
   ],
   "source": [
    "print(f'Интерквартильный размах {[q1, q3]}')"
   ]
  },
  {
   "cell_type": "code",
   "execution_count": 17,
   "metadata": {},
   "outputs": [
    {
     "data": {
      "text/plain": [
       "array([45., 84.])"
      ]
     },
     "execution_count": 17,
     "metadata": {},
     "output_type": "execute_result"
    }
   ],
   "source": [
    "np.quantile(df['zp'], [0.25, 0.75])"
   ]
  },
  {
   "cell_type": "code",
   "execution_count": 18,
   "metadata": {},
   "outputs": [
    {
     "name": "stdout",
     "output_type": "stream",
     "text": [
      "Интерквартильное расстояние 39\n"
     ]
    }
   ],
   "source": [
    "iqr = q3 - q1\n",
    "print(f'Интерквартильное расстояние {iqr}')"
   ]
  },
  {
   "cell_type": "code",
   "execution_count": 19,
   "metadata": {},
   "outputs": [
    {
     "data": {
      "text/plain": [
       "(-13.5, 142.5)"
      ]
     },
     "execution_count": 19,
     "metadata": {},
     "output_type": "execute_result"
    }
   ],
   "source": [
    "boxplot_range = (q1 - 1.5 * iqr, q3 + 1.5 * iqr)\n",
    "boxplot_range"
   ]
  },
  {
   "cell_type": "code",
   "execution_count": 20,
   "metadata": {},
   "outputs": [
    {
     "data": {
      "text/plain": [
       "<matplotlib.axes._subplots.AxesSubplot at 0xfc4db83188>"
      ]
     },
     "execution_count": 20,
     "metadata": {},
     "output_type": "execute_result"
    },
    {
     "data": {
      "image/png": "[encoded data removed]",
      "text/plain": [
       "<Figure size 432x288 with 1 Axes>"
      ]
     },
     "metadata": {},
     "output_type": "display_data"
    }
   ],
   "source": [
    "df[['zp']].boxplot()"
   ]
  },
  {
   "cell_type": "code",
   "execution_count": 21,
   "metadata": {},
   "outputs": [],
   "source": [
    "import seaborn as sns"
   ]
  },
  {
   "cell_type": "code",
   "execution_count": 22,
   "metadata": {},
   "outputs": [
    {
     "data": {
      "text/plain": [
       "<matplotlib.axes._subplots.AxesSubplot at 0xfc51c93d08>"
      ]
     },
     "execution_count": 22,
     "metadata": {},
     "output_type": "execute_result"
    },
    {
     "data": {
      "image/png": "[encoded data removed]",
      "text/plain": [
       "<Figure size 432x288 with 1 Axes>"
      ]
     },
     "metadata": {},
     "output_type": "display_data"
    }
   ],
   "source": [
    "sns.boxplot(df['zp'], orient='v')"
   ]
  },
  {
   "cell_type": "markdown",
   "metadata": {},
   "source": [
    "Не совпадение границ ящика и фактических границ вызвано тем, что граница задается по реальным данным. Поэтому верхняя граница прошла по 100, а нижняя по 17"
   ]
  },
  {
   "cell_type": "code",
   "execution_count": 23,
   "metadata": {},
   "outputs": [
    {
     "name": "stdout",
     "output_type": "stream",
     "text": [
      "Выбросы 2\n"
     ]
    }
   ],
   "source": [
    "outliers = 0\n",
    "for i in zp:\n",
    "    if i < boxplot_range[0] or i > boxplot_range[1]:\n",
    "        outliers += 1\n",
    "print(f'Выбросы {outliers}')"
   ]
  },
  {
   "cell_type": "markdown",
   "metadata": {},
   "source": [
    "## Задача 3\n",
    "\n",
    "В университет на факультеты A и B поступило равное количество студентов, а на факультет C студентов поступило столько же, сколько на A и B вместе. Вероятность того, что студент факультета A сдаст первую сессию, равна 0.8. Для студента факультета B эта вероятность равна 0.7, а для студента факультета C - 0.9. Студент сдал первую сессию. Какова вероятность, что он учится: a) на факультете A? б) на факультете B? в) на факультете C?"
   ]
  },
  {
   "cell_type": "markdown",
   "metadata": {},
   "source": [
    "A = B\n",
    "\n",
    "C = 2A = 2B\n",
    "\n",
    "P(A) = 0.8\n",
    "\n",
    "P(B) = 0.7\n",
    "\n",
    "P(C) = 0.9\n",
    "\n",
    "Вероятность того, что студент принадлежит факультету A или B = 0.25. Факультету C = 0.5\n",
    "\n",
    "Значит безусловная вероятность сдать сессию студентом"
   ]
  },
  {
   "cell_type": "code",
   "execution_count": 24,
   "metadata": {},
   "outputs": [
    {
     "data": {
      "text/plain": [
       "0.825"
      ]
     },
     "execution_count": 24,
     "metadata": {},
     "output_type": "execute_result"
    }
   ],
   "source": [
    "0.25 * 0.8 + 0.25 * 0.7 + 0.5 * 0.9"
   ]
  },
  {
   "cell_type": "markdown",
   "metadata": {},
   "source": [
    "Вероятность, что учится на факультете A"
   ]
  },
  {
   "cell_type": "code",
   "execution_count": 25,
   "metadata": {},
   "outputs": [
    {
     "data": {
      "text/plain": [
       "0.24242424242424246"
      ]
     },
     "execution_count": 25,
     "metadata": {},
     "output_type": "execute_result"
    }
   ],
   "source": [
    "0.25 * 0.8 / 0.825"
   ]
  },
  {
   "cell_type": "markdown",
   "metadata": {},
   "source": [
    "Вероятность, что учится на факультете B"
   ]
  },
  {
   "cell_type": "code",
   "execution_count": 26,
   "metadata": {},
   "outputs": [
    {
     "data": {
      "text/plain": [
       "0.21212121212121213"
      ]
     },
     "execution_count": 26,
     "metadata": {},
     "output_type": "execute_result"
    }
   ],
   "source": [
    "0.25 * 0.7 / 0.825"
   ]
  },
  {
   "cell_type": "markdown",
   "metadata": {},
   "source": [
    "Вероятность, что учится на факультете C"
   ]
  },
  {
   "cell_type": "code",
   "execution_count": 27,
   "metadata": {},
   "outputs": [
    {
     "data": {
      "text/plain": [
       "0.5454545454545455"
      ]
     },
     "execution_count": 27,
     "metadata": {},
     "output_type": "execute_result"
    }
   ],
   "source": [
    "0.5 * 0.9 / 0.825"
   ]
  }
 ],
 "metadata": {
  "kernelspec": {
   "display_name": "Python 3",
   "language": "python",
   "name": "python3"
  },
  "language_info": {
   "codemirror_mode": {
    "name": "ipython",
    "version": 3
   },
   "file_extension": ".py",
   "mimetype": "text/x-python",
   "name": "python",
   "nbconvert_exporter": "python",
   "pygments_lexer": "ipython3",
   "version": "3.7.6"
  }
 },
 "nbformat": 4,
 "nbformat_minor": 4
}
